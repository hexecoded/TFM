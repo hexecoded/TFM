{
 "cells": [
  {
   "metadata": {},
   "cell_type": "markdown",
   "source": [
    "# Positional Encoding: Resultados obtenidos\n",
    "\n",
    "En este notebook, se analizan los resultados obtenidos para diferentes propuestas de positional encoding en el modelo de Informer para la predicción en series temporales. Para ello, los algoritmos han sido ejecutados previamente, y salvado sus métricas en un fichero csv, el cual será empleado para el cálculo de las mejoras relativas y la representación gráfica de las métricas."
   ],
   "id": "6663984545d57d50"
  },
  {
   "metadata": {},
   "cell_type": "markdown",
   "source": "Comenzaremos el análisis mediante la lectura de los ficheros, que hacen referencia a las 3 alternativas a comparar, siendo nuestra referencia el modelo de Informer original.",
   "id": "56ec5ab129aa9b31"
  },
  {
   "metadata": {},
   "cell_type": "markdown",
   "source": "## HPC (freq = minutos)",
   "id": "212e1b7ed08576d3"
  },
  {
   "cell_type": "code",
   "id": "initial_id",
   "metadata": {
    "collapsed": true,
    "ExecuteTime": {
     "end_time": "2025-05-30T14:20:58.754225Z",
     "start_time": "2025-05-30T14:20:58.743749Z"
    }
   },
   "source": [
    "import pandas as pd\n",
    "import numpy as np\n",
    "import matplotlib.pyplot as plt\n",
    "\n",
    "# Lectura de ficheros\n",
    "df_original = pd.read_csv(\"Informer_PE.csv\")\n",
    "print(\"Informer Original\")\n",
    "display(df_original)\n",
    "\n",
    "df_sin_pe = pd.read_csv(\"Informer_NoPE.csv\")\n",
    "print(\"Informer Sin PE\")\n",
    "display(df_sin_pe)\n",
    "\n",
    "df_fft = pd.read_csv(\"Informer_FFT.csv\")\n",
    "print(\"Informer con PE basado en FFT\")\n",
    "display(df_fft)"
   ],
   "outputs": [
    {
     "name": "stdout",
     "output_type": "stream",
     "text": [
      "Informer Original\n"
     ]
    },
    {
     "data": {
      "text/plain": [
       "  Métrica        Valor\n",
       "0     MAE     0.305472\n",
       "1     MSE     0.378791\n",
       "2    RMSE     0.615404\n",
       "3    MAPE     2.164158\n",
       "4    MSPE  1005.066427"
      ],
      "text/html": [
       "<div>\n",
       "<style scoped>\n",
       "    .dataframe tbody tr th:only-of-type {\n",
       "        vertical-align: middle;\n",
       "    }\n",
       "\n",
       "    .dataframe tbody tr th {\n",
       "        vertical-align: top;\n",
       "    }\n",
       "\n",
       "    .dataframe thead th {\n",
       "        text-align: right;\n",
       "    }\n",
       "</style>\n",
       "<table border=\"1\" class=\"dataframe\">\n",
       "  <thead>\n",
       "    <tr style=\"text-align: right;\">\n",
       "      <th></th>\n",
       "      <th>Métrica</th>\n",
       "      <th>Valor</th>\n",
       "    </tr>\n",
       "  </thead>\n",
       "  <tbody>\n",
       "    <tr>\n",
       "      <th>0</th>\n",
       "      <td>MAE</td>\n",
       "      <td>0.305472</td>\n",
       "    </tr>\n",
       "    <tr>\n",
       "      <th>1</th>\n",
       "      <td>MSE</td>\n",
       "      <td>0.378791</td>\n",
       "    </tr>\n",
       "    <tr>\n",
       "      <th>2</th>\n",
       "      <td>RMSE</td>\n",
       "      <td>0.615404</td>\n",
       "    </tr>\n",
       "    <tr>\n",
       "      <th>3</th>\n",
       "      <td>MAPE</td>\n",
       "      <td>2.164158</td>\n",
       "    </tr>\n",
       "    <tr>\n",
       "      <th>4</th>\n",
       "      <td>MSPE</td>\n",
       "      <td>1005.066427</td>\n",
       "    </tr>\n",
       "  </tbody>\n",
       "</table>\n",
       "</div>"
      ]
     },
     "metadata": {},
     "output_type": "display_data"
    },
    {
     "name": "stdout",
     "output_type": "stream",
     "text": [
      "Informer Sin PE\n"
     ]
    },
    {
     "data": {
      "text/plain": [
       "  Métrica        Valor\n",
       "0     MAE     0.372206\n",
       "1     MSE     0.472345\n",
       "2    RMSE     0.687251\n",
       "3    MAPE     2.330153\n",
       "4    MSPE  1111.673543"
      ],
      "text/html": [
       "<div>\n",
       "<style scoped>\n",
       "    .dataframe tbody tr th:only-of-type {\n",
       "        vertical-align: middle;\n",
       "    }\n",
       "\n",
       "    .dataframe tbody tr th {\n",
       "        vertical-align: top;\n",
       "    }\n",
       "\n",
       "    .dataframe thead th {\n",
       "        text-align: right;\n",
       "    }\n",
       "</style>\n",
       "<table border=\"1\" class=\"dataframe\">\n",
       "  <thead>\n",
       "    <tr style=\"text-align: right;\">\n",
       "      <th></th>\n",
       "      <th>Métrica</th>\n",
       "      <th>Valor</th>\n",
       "    </tr>\n",
       "  </thead>\n",
       "  <tbody>\n",
       "    <tr>\n",
       "      <th>0</th>\n",
       "      <td>MAE</td>\n",
       "      <td>0.372206</td>\n",
       "    </tr>\n",
       "    <tr>\n",
       "      <th>1</th>\n",
       "      <td>MSE</td>\n",
       "      <td>0.472345</td>\n",
       "    </tr>\n",
       "    <tr>\n",
       "      <th>2</th>\n",
       "      <td>RMSE</td>\n",
       "      <td>0.687251</td>\n",
       "    </tr>\n",
       "    <tr>\n",
       "      <th>3</th>\n",
       "      <td>MAPE</td>\n",
       "      <td>2.330153</td>\n",
       "    </tr>\n",
       "    <tr>\n",
       "      <th>4</th>\n",
       "      <td>MSPE</td>\n",
       "      <td>1111.673543</td>\n",
       "    </tr>\n",
       "  </tbody>\n",
       "</table>\n",
       "</div>"
      ]
     },
     "metadata": {},
     "output_type": "display_data"
    },
    {
     "name": "stdout",
     "output_type": "stream",
     "text": [
      "Informer con PE basado en FFT\n"
     ]
    },
    {
     "data": {
      "text/plain": [
       "  Métrica        Valor\n",
       "0     MAE     0.349108\n",
       "1     MSE     0.415932\n",
       "2    RMSE     0.644924\n",
       "3    MAPE     2.442069\n",
       "4    MSPE  1211.573730"
      ],
      "text/html": [
       "<div>\n",
       "<style scoped>\n",
       "    .dataframe tbody tr th:only-of-type {\n",
       "        vertical-align: middle;\n",
       "    }\n",
       "\n",
       "    .dataframe tbody tr th {\n",
       "        vertical-align: top;\n",
       "    }\n",
       "\n",
       "    .dataframe thead th {\n",
       "        text-align: right;\n",
       "    }\n",
       "</style>\n",
       "<table border=\"1\" class=\"dataframe\">\n",
       "  <thead>\n",
       "    <tr style=\"text-align: right;\">\n",
       "      <th></th>\n",
       "      <th>Métrica</th>\n",
       "      <th>Valor</th>\n",
       "    </tr>\n",
       "  </thead>\n",
       "  <tbody>\n",
       "    <tr>\n",
       "      <th>0</th>\n",
       "      <td>MAE</td>\n",
       "      <td>0.349108</td>\n",
       "    </tr>\n",
       "    <tr>\n",
       "      <th>1</th>\n",
       "      <td>MSE</td>\n",
       "      <td>0.415932</td>\n",
       "    </tr>\n",
       "    <tr>\n",
       "      <th>2</th>\n",
       "      <td>RMSE</td>\n",
       "      <td>0.644924</td>\n",
       "    </tr>\n",
       "    <tr>\n",
       "      <th>3</th>\n",
       "      <td>MAPE</td>\n",
       "      <td>2.442069</td>\n",
       "    </tr>\n",
       "    <tr>\n",
       "      <th>4</th>\n",
       "      <td>MSPE</td>\n",
       "      <td>1211.573730</td>\n",
       "    </tr>\n",
       "  </tbody>\n",
       "</table>\n",
       "</div>"
      ]
     },
     "metadata": {},
     "output_type": "display_data"
    }
   ],
   "execution_count": 1
  },
  {
   "metadata": {},
   "cell_type": "markdown",
   "source": [
    "### Análisis numérico\n",
    "\n",
    "Comenzaremos analizando la mejora (o empeoramiento) relativo de los modelos sin PE y mediante FFT contra el modelo original de Informer. Para ello, estudiaremos de manera relativa el porcentaje de diferencia entre pares de modelos."
   ],
   "id": "f78a56670374882c"
  },
  {
   "metadata": {
    "ExecuteTime": {
     "end_time": "2025-05-30T14:20:58.846961Z",
     "start_time": "2025-05-30T14:20:58.840610Z"
    }
   },
   "cell_type": "code",
   "source": [
    "# Fusión de los dataframe\n",
    "df_temp = pd.merge(df_original, df_sin_pe, on=\"Métrica\", suffixes=(\"_PE\", \"_NoPE\"))\n",
    "df_comparacion = pd.merge(df_temp, df_fft, on=\"Métrica\")\n",
    "\n",
    "df_fft_renamed = df_fft.rename(columns=lambda x: x if x == \"Métrica\" else f\"{x}_FFT\")\n",
    "df_comparacion = pd.merge(df_temp, df_fft_renamed, on=\"Métrica\")\n",
    "\n",
    "# Mostramos resultado\n",
    "display(df_comparacion)"
   ],
   "id": "f298b271929192fe",
   "outputs": [
    {
     "data": {
      "text/plain": [
       "  Métrica     Valor_PE   Valor_NoPE    Valor_FFT\n",
       "0     MAE     0.305472     0.372206     0.349108\n",
       "1     MSE     0.378791     0.472345     0.415932\n",
       "2    RMSE     0.615404     0.687251     0.644924\n",
       "3    MAPE     2.164158     2.330153     2.442069\n",
       "4    MSPE  1005.066427  1111.673543  1211.573730"
      ],
      "text/html": [
       "<div>\n",
       "<style scoped>\n",
       "    .dataframe tbody tr th:only-of-type {\n",
       "        vertical-align: middle;\n",
       "    }\n",
       "\n",
       "    .dataframe tbody tr th {\n",
       "        vertical-align: top;\n",
       "    }\n",
       "\n",
       "    .dataframe thead th {\n",
       "        text-align: right;\n",
       "    }\n",
       "</style>\n",
       "<table border=\"1\" class=\"dataframe\">\n",
       "  <thead>\n",
       "    <tr style=\"text-align: right;\">\n",
       "      <th></th>\n",
       "      <th>Métrica</th>\n",
       "      <th>Valor_PE</th>\n",
       "      <th>Valor_NoPE</th>\n",
       "      <th>Valor_FFT</th>\n",
       "    </tr>\n",
       "  </thead>\n",
       "  <tbody>\n",
       "    <tr>\n",
       "      <th>0</th>\n",
       "      <td>MAE</td>\n",
       "      <td>0.305472</td>\n",
       "      <td>0.372206</td>\n",
       "      <td>0.349108</td>\n",
       "    </tr>\n",
       "    <tr>\n",
       "      <th>1</th>\n",
       "      <td>MSE</td>\n",
       "      <td>0.378791</td>\n",
       "      <td>0.472345</td>\n",
       "      <td>0.415932</td>\n",
       "    </tr>\n",
       "    <tr>\n",
       "      <th>2</th>\n",
       "      <td>RMSE</td>\n",
       "      <td>0.615404</td>\n",
       "      <td>0.687251</td>\n",
       "      <td>0.644924</td>\n",
       "    </tr>\n",
       "    <tr>\n",
       "      <th>3</th>\n",
       "      <td>MAPE</td>\n",
       "      <td>2.164158</td>\n",
       "      <td>2.330153</td>\n",
       "      <td>2.442069</td>\n",
       "    </tr>\n",
       "    <tr>\n",
       "      <th>4</th>\n",
       "      <td>MSPE</td>\n",
       "      <td>1005.066427</td>\n",
       "      <td>1111.673543</td>\n",
       "      <td>1211.573730</td>\n",
       "    </tr>\n",
       "  </tbody>\n",
       "</table>\n",
       "</div>"
      ]
     },
     "metadata": {},
     "output_type": "display_data"
    }
   ],
   "execution_count": 2
  },
  {
   "metadata": {
    "ExecuteTime": {
     "end_time": "2025-05-30T14:20:58.909522Z",
     "start_time": "2025-05-30T14:20:58.904477Z"
    }
   },
   "cell_type": "code",
   "source": [
    "# Calculamos la mejora porcentual de PE sobre FFT\n",
    "df_comparacion[\"% PE sobre FFT\"] = ((df_comparacion[\"Valor_FFT\"] - df_comparacion[\"Valor_PE\"]) / df_comparacion[\"Valor_FFT\"]) * 100\n",
    "df_comparacion[\"% PE sobre NoPE\"] = ((df_comparacion[\"Valor_NoPE\"] - df_comparacion[\"Valor_PE\"]) / df_comparacion[\"Valor_NoPE\"]) * 100\n",
    "\n",
    "# Mostramos la tabla\n",
    "display(df_comparacion)\n",
    "\n",
    "# Calculamos el promedio de mejora\n",
    "promedio_mejora_fft = df_comparacion[\"% PE sobre FFT\"].mean()\n",
    "promedio_mejora_nope = df_comparacion[\"% PE sobre NoPE\"].mean()\n",
    "print(\"\\nPromedio de mejora de PE sobre FFT: {:.2f}%\".format(promedio_mejora_fft))\n",
    "print(\"\\nPromedio de mejora de PE sobre NoPE: {:.2f}%\".format(promedio_mejora_nope))"
   ],
   "id": "8e3048680d094389",
   "outputs": [
    {
     "data": {
      "text/plain": [
       "  Métrica     Valor_PE   Valor_NoPE    Valor_FFT  % PE sobre FFT  \\\n",
       "0     MAE     0.305472     0.372206     0.349108       12.499257   \n",
       "1     MSE     0.378791     0.472345     0.415932        8.929438   \n",
       "2    RMSE     0.615404     0.687251     0.644924        4.577299   \n",
       "3    MAPE     2.164158     2.330153     2.442069       11.380116   \n",
       "4    MSPE  1005.066427  1111.673543  1211.573730       17.044551   \n",
       "\n",
       "   % PE sobre NoPE  \n",
       "0        17.929177  \n",
       "1        19.806257  \n",
       "2        10.454231  \n",
       "3         7.123747  \n",
       "4         9.589786  "
      ],
      "text/html": [
       "<div>\n",
       "<style scoped>\n",
       "    .dataframe tbody tr th:only-of-type {\n",
       "        vertical-align: middle;\n",
       "    }\n",
       "\n",
       "    .dataframe tbody tr th {\n",
       "        vertical-align: top;\n",
       "    }\n",
       "\n",
       "    .dataframe thead th {\n",
       "        text-align: right;\n",
       "    }\n",
       "</style>\n",
       "<table border=\"1\" class=\"dataframe\">\n",
       "  <thead>\n",
       "    <tr style=\"text-align: right;\">\n",
       "      <th></th>\n",
       "      <th>Métrica</th>\n",
       "      <th>Valor_PE</th>\n",
       "      <th>Valor_NoPE</th>\n",
       "      <th>Valor_FFT</th>\n",
       "      <th>% PE sobre FFT</th>\n",
       "      <th>% PE sobre NoPE</th>\n",
       "    </tr>\n",
       "  </thead>\n",
       "  <tbody>\n",
       "    <tr>\n",
       "      <th>0</th>\n",
       "      <td>MAE</td>\n",
       "      <td>0.305472</td>\n",
       "      <td>0.372206</td>\n",
       "      <td>0.349108</td>\n",
       "      <td>12.499257</td>\n",
       "      <td>17.929177</td>\n",
       "    </tr>\n",
       "    <tr>\n",
       "      <th>1</th>\n",
       "      <td>MSE</td>\n",
       "      <td>0.378791</td>\n",
       "      <td>0.472345</td>\n",
       "      <td>0.415932</td>\n",
       "      <td>8.929438</td>\n",
       "      <td>19.806257</td>\n",
       "    </tr>\n",
       "    <tr>\n",
       "      <th>2</th>\n",
       "      <td>RMSE</td>\n",
       "      <td>0.615404</td>\n",
       "      <td>0.687251</td>\n",
       "      <td>0.644924</td>\n",
       "      <td>4.577299</td>\n",
       "      <td>10.454231</td>\n",
       "    </tr>\n",
       "    <tr>\n",
       "      <th>3</th>\n",
       "      <td>MAPE</td>\n",
       "      <td>2.164158</td>\n",
       "      <td>2.330153</td>\n",
       "      <td>2.442069</td>\n",
       "      <td>11.380116</td>\n",
       "      <td>7.123747</td>\n",
       "    </tr>\n",
       "    <tr>\n",
       "      <th>4</th>\n",
       "      <td>MSPE</td>\n",
       "      <td>1005.066427</td>\n",
       "      <td>1111.673543</td>\n",
       "      <td>1211.573730</td>\n",
       "      <td>17.044551</td>\n",
       "      <td>9.589786</td>\n",
       "    </tr>\n",
       "  </tbody>\n",
       "</table>\n",
       "</div>"
      ]
     },
     "metadata": {},
     "output_type": "display_data"
    },
    {
     "name": "stdout",
     "output_type": "stream",
     "text": [
      "\n",
      "Promedio de mejora de PE sobre FFT: 10.89%\n",
      "\n",
      "Promedio de mejora de PE sobre NoPE: 12.98%\n"
     ]
    }
   ],
   "execution_count": 3
  },
  {
   "metadata": {},
   "cell_type": "markdown",
   "source": [
    "### Representación gráfica\n",
    "Para apreciarlo de manera visual, podemos representar las diferentes métricas en un gráfico de barras y apreciar el rendimiento entre alternativas."
   ],
   "id": "cdd3874b96400857"
  },
  {
   "metadata": {
    "ExecuteTime": {
     "end_time": "2025-05-30T14:20:58.975023Z",
     "start_time": "2025-05-30T14:20:58.972555Z"
    }
   },
   "cell_type": "code",
   "source": "df_comparacion.drop(columns=[\"% PE sobre NoPE\", \"% PE sobre FFT\"], inplace=True)",
   "id": "9db791566b262ea",
   "outputs": [],
   "execution_count": 4
  },
  {
   "metadata": {
    "ExecuteTime": {
     "end_time": "2025-05-30T14:20:59.451465Z",
     "start_time": "2025-05-30T14:20:59.042746Z"
    }
   },
   "cell_type": "code",
   "source": [
    "import seaborn as sns\n",
    "\n",
    "# Transformamos a formato largo para representar\n",
    "df_long = df_comparacion.melt(id_vars=\"Métrica\", var_name=\"Modelo\", value_name=\"Valor\")\n",
    "\n",
    "g = sns.FacetGrid(df_long, col=\"Métrica\", col_wrap=3, sharey=False, height=4)\n",
    "g.map_dataframe(sns.barplot, x=\"Modelo\", y=\"Valor\", hue=\"Modelo\", palette=\"muted\", legend=False)\n",
    "\n",
    "g.set_titles(\"{col_name}\")\n",
    "g.fig.suptitle(\"Comparación por Métrica\", y=1.05)\n",
    "g.tight_layout()\n",
    "plt.show()"
   ],
   "id": "ffe2bc26f4c85e30",
   "outputs": [
    {
     "data": {
      "text/plain": [
       "<Figure size 1200x800 with 5 Axes>"
      ],
      "image/png": "[encoded data removed]"
     },
     "metadata": {},
     "output_type": "display_data"
    }
   ],
   "execution_count": 5
  },
  {
   "metadata": {},
   "cell_type": "markdown",
   "source": "## HPC (freq = horas)",
   "id": "504600b53e632ebe"
  },
  {
   "metadata": {
    "ExecuteTime": {
     "end_time": "2025-05-30T14:20:59.469032Z",
     "start_time": "2025-05-30T14:20:59.463002Z"
    }
   },
   "cell_type": "code",
   "source": [
    "import pandas as pd\n",
    "import numpy as np\n",
    "import matplotlib.pyplot as plt\n",
    "\n",
    "# Lectura de ficheros\n",
    "df_original = pd.read_csv(\"metricas_InformerPE_informer_HPC_ftM_sl96_ll48_pl24_dm512_nh8_el2_dl1_df2048_atprob_fc5_ebtimeF_dtTrue_mxTrue_test.csv\")\n",
    "print(\"Informer Original\")\n",
    "display(df_original)\n",
    "\n",
    "df_sin_pe = pd.read_csv(\"metricas_informer_HPC_ftM_sl96_ll48_pl24_dm512_nh8_el2_dl1_df2048_atprob_fc5_ebtimeF_dtTrue_mxTrue_test.csv\")\n",
    "print(\"Informer Sin PE\")\n",
    "display(df_sin_pe)"
   ],
   "id": "ca8841661e3e8f91",
   "outputs": [
    {
     "name": "stdout",
     "output_type": "stream",
     "text": [
      "Informer Original\n"
     ]
    },
    {
     "data": {
      "text/plain": [
       "  Métrica          Valor\n",
       "0     MAE       0.485200\n",
       "1     MSE       0.558848\n",
       "2    RMSE       0.747400\n",
       "3    MAPE       7.436030\n",
       "4    MSPE  931199.062500"
      ],
      "text/html": [
       "<div>\n",
       "<style scoped>\n",
       "    .dataframe tbody tr th:only-of-type {\n",
       "        vertical-align: middle;\n",
       "    }\n",
       "\n",
       "    .dataframe tbody tr th {\n",
       "        vertical-align: top;\n",
       "    }\n",
       "\n",
       "    .dataframe thead th {\n",
       "        text-align: right;\n",
       "    }\n",
       "</style>\n",
       "<table border=\"1\" class=\"dataframe\">\n",
       "  <thead>\n",
       "    <tr style=\"text-align: right;\">\n",
       "      <th></th>\n",
       "      <th>Métrica</th>\n",
       "      <th>Valor</th>\n",
       "    </tr>\n",
       "  </thead>\n",
       "  <tbody>\n",
       "    <tr>\n",
       "      <th>0</th>\n",
       "      <td>MAE</td>\n",
       "      <td>0.485200</td>\n",
       "    </tr>\n",
       "    <tr>\n",
       "      <th>1</th>\n",
       "      <td>MSE</td>\n",
       "      <td>0.558848</td>\n",
       "    </tr>\n",
       "    <tr>\n",
       "      <th>2</th>\n",
       "      <td>RMSE</td>\n",
       "      <td>0.747400</td>\n",
       "    </tr>\n",
       "    <tr>\n",
       "      <th>3</th>\n",
       "      <td>MAPE</td>\n",
       "      <td>7.436030</td>\n",
       "    </tr>\n",
       "    <tr>\n",
       "      <th>4</th>\n",
       "      <td>MSPE</td>\n",
       "      <td>931199.062500</td>\n",
       "    </tr>\n",
       "  </tbody>\n",
       "</table>\n",
       "</div>"
      ]
     },
     "metadata": {},
     "output_type": "display_data"
    },
    {
     "name": "stdout",
     "output_type": "stream",
     "text": [
      "Informer Sin PE\n"
     ]
    },
    {
     "data": {
      "text/plain": [
       "  Métrica          Valor\n",
       "0     MAE       0.557479\n",
       "1     MSE       0.649362\n",
       "2    RMSE       0.805821\n",
       "3    MAPE       7.095342\n",
       "4    MSPE  921760.375000"
      ],
      "text/html": [
       "<div>\n",
       "<style scoped>\n",
       "    .dataframe tbody tr th:only-of-type {\n",
       "        vertical-align: middle;\n",
       "    }\n",
       "\n",
       "    .dataframe tbody tr th {\n",
       "        vertical-align: top;\n",
       "    }\n",
       "\n",
       "    .dataframe thead th {\n",
       "        text-align: right;\n",
       "    }\n",
       "</style>\n",
       "<table border=\"1\" class=\"dataframe\">\n",
       "  <thead>\n",
       "    <tr style=\"text-align: right;\">\n",
       "      <th></th>\n",
       "      <th>Métrica</th>\n",
       "      <th>Valor</th>\n",
       "    </tr>\n",
       "  </thead>\n",
       "  <tbody>\n",
       "    <tr>\n",
       "      <th>0</th>\n",
       "      <td>MAE</td>\n",
       "      <td>0.557479</td>\n",
       "    </tr>\n",
       "    <tr>\n",
       "      <th>1</th>\n",
       "      <td>MSE</td>\n",
       "      <td>0.649362</td>\n",
       "    </tr>\n",
       "    <tr>\n",
       "      <th>2</th>\n",
       "      <td>RMSE</td>\n",
       "      <td>0.805821</td>\n",
       "    </tr>\n",
       "    <tr>\n",
       "      <th>3</th>\n",
       "      <td>MAPE</td>\n",
       "      <td>7.095342</td>\n",
       "    </tr>\n",
       "    <tr>\n",
       "      <th>4</th>\n",
       "      <td>MSPE</td>\n",
       "      <td>921760.375000</td>\n",
       "    </tr>\n",
       "  </tbody>\n",
       "</table>\n",
       "</div>"
      ]
     },
     "metadata": {},
     "output_type": "display_data"
    }
   ],
   "execution_count": 6
  },
  {
   "metadata": {
    "ExecuteTime": {
     "end_time": "2025-05-30T14:21:35.203775Z",
     "start_time": "2025-05-30T14:21:35.198015Z"
    }
   },
   "cell_type": "code",
   "source": [
    "df_comparacion = pd.merge(df_original, df_sin_pe, on=\"Métrica\", suffixes=(\"_PE\", \"_NoPE\"))\n",
    "df_comparacion[\"% PE sobre NoPE\"] = ((df_comparacion[\"Valor_NoPE\"] - df_comparacion[\"Valor_PE\"]) / df_comparacion[\"Valor_NoPE\"]) * 100\n",
    "\n",
    "df_comparacion"
   ],
   "id": "3a42666bb0445dd8",
   "outputs": [
    {
     "data": {
      "text/plain": [
       "  Métrica       Valor_PE     Valor_NoPE  % PE sobre NoPE\n",
       "0     MAE       0.485200       0.557479        12.965284\n",
       "1     MSE       0.558848       0.649362        13.938942\n",
       "2    RMSE       0.747400       0.805821         7.249846\n",
       "3    MAPE       7.436030       7.095342        -4.801574\n",
       "4    MSPE  931199.062500  921760.375000        -1.023985"
      ],
      "text/html": [
       "<div>\n",
       "<style scoped>\n",
       "    .dataframe tbody tr th:only-of-type {\n",
       "        vertical-align: middle;\n",
       "    }\n",
       "\n",
       "    .dataframe tbody tr th {\n",
       "        vertical-align: top;\n",
       "    }\n",
       "\n",
       "    .dataframe thead th {\n",
       "        text-align: right;\n",
       "    }\n",
       "</style>\n",
       "<table border=\"1\" class=\"dataframe\">\n",
       "  <thead>\n",
       "    <tr style=\"text-align: right;\">\n",
       "      <th></th>\n",
       "      <th>Métrica</th>\n",
       "      <th>Valor_PE</th>\n",
       "      <th>Valor_NoPE</th>\n",
       "      <th>% PE sobre NoPE</th>\n",
       "    </tr>\n",
       "  </thead>\n",
       "  <tbody>\n",
       "    <tr>\n",
       "      <th>0</th>\n",
       "      <td>MAE</td>\n",
       "      <td>0.485200</td>\n",
       "      <td>0.557479</td>\n",
       "      <td>12.965284</td>\n",
       "    </tr>\n",
       "    <tr>\n",
       "      <th>1</th>\n",
       "      <td>MSE</td>\n",
       "      <td>0.558848</td>\n",
       "      <td>0.649362</td>\n",
       "      <td>13.938942</td>\n",
       "    </tr>\n",
       "    <tr>\n",
       "      <th>2</th>\n",
       "      <td>RMSE</td>\n",
       "      <td>0.747400</td>\n",
       "      <td>0.805821</td>\n",
       "      <td>7.249846</td>\n",
       "    </tr>\n",
       "    <tr>\n",
       "      <th>3</th>\n",
       "      <td>MAPE</td>\n",
       "      <td>7.436030</td>\n",
       "      <td>7.095342</td>\n",
       "      <td>-4.801574</td>\n",
       "    </tr>\n",
       "    <tr>\n",
       "      <th>4</th>\n",
       "      <td>MSPE</td>\n",
       "      <td>931199.062500</td>\n",
       "      <td>921760.375000</td>\n",
       "      <td>-1.023985</td>\n",
       "    </tr>\n",
       "  </tbody>\n",
       "</table>\n",
       "</div>"
      ]
     },
     "execution_count": 10,
     "metadata": {},
     "output_type": "execute_result"
    }
   ],
   "execution_count": 10
  },
  {
   "metadata": {
    "ExecuteTime": {
     "end_time": "2025-05-30T14:29:49.613310Z",
     "start_time": "2025-05-30T14:29:49.611456Z"
    }
   },
   "cell_type": "code",
   "source": [
    "promedio_mejora_nope = df_comparacion[\"% PE sobre NoPE\"].mean()\n",
    "print(\"\\nPromedio de mejora de PE sobre NoPE: {:.2f}%\".format(promedio_mejora_nope))"
   ],
   "id": "e4424c61b121935f",
   "outputs": [
    {
     "name": "stdout",
     "output_type": "stream",
     "text": [
      "\n",
      "Promedio de mejora de PE sobre NoPE: 5.67%\n"
     ]
    }
   ],
   "execution_count": 13
  }
 ],
 "metadata": {
  "kernelspec": {
   "display_name": "Python 3",
   "language": "python",
   "name": "python3"
  },
  "language_info": {
   "codemirror_mode": {
    "name": "ipython",
    "version": 2
   },
   "file_extension": ".py",
   "mimetype": "text/x-python",
   "name": "python",
   "nbconvert_exporter": "python",
   "pygments_lexer": "ipython2",
   "version": "2.7.6"
  }
 },
 "nbformat": 4,
 "nbformat_minor": 5
}
